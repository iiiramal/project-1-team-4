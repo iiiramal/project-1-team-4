{
 "cells": [
  {
   "cell_type": "code",
   "execution_count": null,
   "id": "3d2f3dbf",
   "metadata": {},
   "outputs": [],
   "source": [
    "# Dependencies and Setup\n",
    "import matplotlib.pyplot as plt\n",
    "import pandas as pd\n",
    "import scipy.stats as st\n",
    "import datetime as dt\n",
    "import numpy as np\n",
    "from scipy.stats import linregress\n",
    "\n",
    "\n",
    "# Study data files\n",
    "cobra_09_path = \"data/COBRA-2009-2019.csv\"\n",
    "cobra_20_path = \"data/COBRA-2020.csv\"\n",
    "cobra_20_Old_path = \"data/COBRA-2020-Old.csv\"\n",
    "cobra_21_path = \"data/COBRA-2021.csv\"\n",
    "county_cases_path = \"data/county_cases.csv\"\n",
    "\n",
    "# Read the mouse data and the study results\n",
    "cobra_09 = pd.read_csv(cobra_09_path, low_memory=False)\n",
    "cobra_20 = pd.read_csv(cobra_20_path)\n",
    "cobra_20_Old = pd.read_csv(cobra_20_Old_path)\n",
    "cobra_21 = pd.read_csv(cobra_21_path)\n",
    "county_cases = pd.read_csv(county_cases_path)\n",
    "\n",
    "\n",
    "# Combine the data into a single dataset\n",
    "#study_data_complete = pd.merge(study_results, mouse_metadata, how=\"left\", on=\"Mouse ID\")\n",
    "\n",
    "# Display the data table for preview\n",
    "#study_data_complete"
   ]
  },
  {
   "cell_type": "code",
   "execution_count": null,
   "id": "de6370a7",
   "metadata": {},
   "outputs": [],
   "source": [
    "cobra_09.columns = ['offense_id','rpt_date','occur_date','occur_time','poss_date','poss_time','beat','apt_office_prefix', 'apt_office_num', 'location', 'shift_occurence','location_type','UC2_Literal','UC2#','ibr_code','neighborhood','npu','lat','long']\n",
    "cobra_09 = cobra_09.drop(columns = ['apt_office_prefix','apt_office_num','shift_occurence','location_type','UC2#', 'poss_date'])\n",
    "cobra_09"
   ]
  },
  {
   "cell_type": "code",
   "execution_count": null,
   "id": "12123863",
   "metadata": {},
   "outputs": [],
   "source": [
    "cobra_09['rpt_date']= pd.to_datetime(cobra_09['rpt_date'])\n",
    "cobra_09['occur_date']= pd.to_datetime(cobra_09['occur_date'])\n",
    "cobra_09['rpt_date'] = cobra_09['rpt_date'].dt.strftime(\"%m/%d/%Y\")\n",
    "cobra_09['occur_date'] = cobra_09['occur_date'].dt.strftime(\"%m/%d/%Y\")\n",
    "cobra_09.head()"
   ]
  },
  {
   "cell_type": "code",
   "execution_count": null,
   "id": "82e3269d",
   "metadata": {},
   "outputs": [],
   "source": [
    "cobra_09.insert(3,'occur_year',cobra_09['occur_date'].str[-4:])\n",
    "cobra_09_delete = cobra_09.loc[cobra_09['occur_year'].str[:2] != '20']\n",
    "cobra_09_delete_list = cobra_09_delete['offense_id'].to_list()\n",
    "cobra_09 = cobra_09[~cobra_09['offense_id'].isin(cobra_09_delete_list)]\n",
    "cobra_09"
   ]
  },
  {
   "cell_type": "code",
   "execution_count": null,
   "id": "c5f0274d",
   "metadata": {},
   "outputs": [],
   "source": [
    "cobra_20_Old.columns = ['offense_id','rpt_date','occur_date','occur_time','poss_date','poss_time','beat','apt_office_prefix', 'apt_office_num', 'location', 'shift_occurence','location_type','UC2_Literal','UC2#','neighborhood','npu','lat','long']\n",
    "cobra_20_Old = cobra_20_Old.drop(columns = ['apt_office_prefix','apt_office_num','shift_occurence','location_type','UC2#', 'poss_date'])\n",
    "cobra_20_Old"
   ]
  },
  {
   "cell_type": "code",
   "execution_count": null,
   "id": "1d651008",
   "metadata": {},
   "outputs": [],
   "source": [
    "cobra_20_Old['rpt_date']= pd.to_datetime(cobra_20_Old['rpt_date'])\n",
    "cobra_20_Old['occur_date']= pd.to_datetime(cobra_20_Old['occur_date'])\n",
    "cobra_20_Old['rpt_date'] = cobra_20_Old['rpt_date'].dt.strftime(\"%m/%d/%Y\")\n",
    "cobra_20_Old['occur_date'] = cobra_20_Old['occur_date'].dt.strftime(\"%m/%d/%Y\")\n",
    "cobra_20_Old.head()"
   ]
  },
  {
   "cell_type": "code",
   "execution_count": null,
   "id": "b19058db",
   "metadata": {},
   "outputs": [],
   "source": [
    "cobra_20_Old.insert(3,'occur_year',cobra_20_Old['occur_date'].str[-4:])\n",
    "cobra_20_Old_delete = cobra_20_Old.loc[cobra_20_Old['occur_year'].str[:2] != '20']\n",
    "cobra_20_Old_delete_list = cobra_20_Old_delete['offense_id'].to_list()\n",
    "cobra_20_Old = cobra_20_Old[~cobra_20_Old['offense_id'].isin(cobra_20_Old_delete_list)]\n",
    "cobra_20_Old"
   ]
  },
  {
   "cell_type": "code",
   "execution_count": null,
   "id": "cb68edf0",
   "metadata": {},
   "outputs": [],
   "source": [
    "cobra_20 = cobra_20.drop(columns = ['apt_office_prefix','apt_office_num','MinOfucr','dispo_code','Shift','loc_type', 'poss_date'])\n",
    "cobra_20_reorder = ['offense_id','rpt_date','occur_date','occur_time','poss_time','beat','location','ibr_code','UC2_Literal','neighborhood','npu','lat','long']\n",
    "cobra_20_reordered = cobra_20.reindex(columns = cobra_20_reorder)\n",
    "cobra_20 = cobra_20_reordered.copy()"
   ]
  },
  {
   "cell_type": "code",
   "execution_count": null,
   "id": "57f3553c",
   "metadata": {},
   "outputs": [],
   "source": [
    "cobra_20.insert(3,'occur_year',cobra_20['occur_date'].str[-4:])\n",
    "cobra_20_delete = cobra_20.loc[cobra_20['occur_year'].str[:2] != '20']\n",
    "cobra_20_delete_list = cobra_20_delete['offense_id'].to_list()\n",
    "cobra_20 = cobra_20[~cobra_20['offense_id'].isin(cobra_20_delete_list)]\n",
    "cobra_20.head()"
   ]
  },
  {
   "cell_type": "code",
   "execution_count": null,
   "id": "2e6133d7",
   "metadata": {},
   "outputs": [],
   "source": [
    "cobra_20['rpt_date']= pd.to_datetime(cobra_20['rpt_date'])\n",
    "cobra_20['occur_date']= pd.to_datetime(cobra_20['occur_date'])\n",
    "cobra_20['rpt_date'] = cobra_20['rpt_date'].dt.strftime(\"%m/%d/%Y\")\n",
    "cobra_20['occur_date'] = cobra_20['occur_date'].dt.strftime(\"%m/%d/%Y\")\n",
    "cobra_20.head()"
   ]
  },
  {
   "cell_type": "code",
   "execution_count": null,
   "id": "220d2f28",
   "metadata": {},
   "outputs": [],
   "source": [
    "cobra_21 = cobra_21.drop(columns = ['occur_day','occur_day_num','occur_day_num','zone', 'poss_date'])\n",
    "cobra_21.head()"
   ]
  },
  {
   "cell_type": "code",
   "execution_count": null,
   "id": "636b8382",
   "metadata": {},
   "outputs": [],
   "source": [
    "cobra_21.insert(3,'occur_year',cobra_21['occur_date'].str[-4:])\n",
    "cobra_21_delete = cobra_21.loc[cobra_21['occur_year'].str[:2] != '20']\n",
    "cobra_21_delete_list = cobra_21_delete['offense_id'].to_list()\n",
    "cobra_21 = cobra_21[~cobra_21['offense_id'].isin(cobra_21_delete_list)]\n",
    "cobra_21"
   ]
  },
  {
   "cell_type": "code",
   "execution_count": null,
   "id": "77ef0779",
   "metadata": {},
   "outputs": [],
   "source": [
    "cobra_21['rpt_date']= pd.to_datetime(cobra_21['rpt_date'])\n",
    "cobra_21['occur_date']= pd.to_datetime(cobra_21['occur_date'])\n",
    "cobra_21['rpt_date'] = cobra_21['rpt_date'].dt.strftime(\"%m/%d/%Y\")\n",
    "cobra_21['occur_date'] = cobra_21['occur_date'].dt.strftime(\"%m/%d/%Y\")\n",
    "cobra_21.head()"
   ]
  },
  {
   "cell_type": "code",
   "execution_count": null,
   "id": "babd30fb",
   "metadata": {},
   "outputs": [],
   "source": [
    "concat_list = [cobra_09, cobra_20,cobra_20_Old, cobra_21]  # List of your dataframes\n",
    "crime_df_complete = pd.concat(concat_list)\n",
    "crime_df_complete.head()"
   ]
  },
  {
   "cell_type": "code",
   "execution_count": null,
   "id": "1f00fc24",
   "metadata": {},
   "outputs": [],
   "source": [
    "crime_df_complete.insert(4,'occur_month',crime_df_complete['occur_date'].str[:2])\n",
    "crime_df_complete.insert(5,'occur_day',crime_df_complete['occur_date'].str[3:5])"
   ]
  },
  {
   "cell_type": "code",
   "execution_count": null,
   "id": "25a46974",
   "metadata": {},
   "outputs": [],
   "source": [
    "crime_df_complete"
   ]
  },
  {
   "cell_type": "code",
   "execution_count": null,
   "id": "211a35ec",
   "metadata": {},
   "outputs": [],
   "source": [
    "county_cases.columns = ['County Name','Cases','County ID','State FIPS Code','County FIPS Code','Population','Hospitalization','Deaths', 'Case Rate', 'Death Rate', '14 Day Case Rate','14 Day Cases','Antigen Cases','Probable Deaths']\n",
    "county_cases.head()"
   ]
  },
  {
   "cell_type": "code",
   "execution_count": null,
   "id": "ecfa09c5",
   "metadata": {},
   "outputs": [],
   "source": []
  }
 ],
 "metadata": {
  "kernelspec": {
   "display_name": "Python 3 (ipykernel)",
   "language": "python",
   "name": "python3"
  },
  "language_info": {
   "codemirror_mode": {
    "name": "ipython",
    "version": 3
   },
   "file_extension": ".py",
   "mimetype": "text/x-python",
   "name": "python",
   "nbconvert_exporter": "python",
   "pygments_lexer": "ipython3",
   "version": "3.8.5"
  }
 },
 "nbformat": 4,
 "nbformat_minor": 5
}
