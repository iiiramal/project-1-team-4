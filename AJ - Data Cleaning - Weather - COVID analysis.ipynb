{
 "cells": [
  {
   "cell_type": "code",
   "execution_count": null,
   "id": "3d2f3dbf",
   "metadata": {},
   "outputs": [],
   "source": [
    "# Dependencies and Setup\n",
    "import matplotlib.pyplot as plt\n",
    "import pandas as pd\n",
    "import scipy.stats as st\n",
    "import datetime as dt\n",
    "import numpy as np\n",
    "from scipy.stats import linregress\n",
    "\n",
    "# Assign Data File Locations\n",
    "cobra_09_path = \"data/COBRA-2009-2019.csv\"\n",
    "cobra_20_path = \"data/COBRA-2020.csv\"\n",
    "cobra_20_Old_path = \"data/COBRA-2020-Old.csv\"\n",
    "cobra_21_path = \"data/COBRA-2021.csv\"\n",
    "weather_data_path = \"data/weather_data.csv\"\n",
    "cases_path = \"data/cdc_covid_data.csv\"\n",
    "\n",
    "# Read the data files into dataframes\n",
    "cobra_09 = pd.read_csv(cobra_09_path, low_memory=False)\n",
    "cobra_20 = pd.read_csv(cobra_20_path)\n",
    "cobra_20_Old = pd.read_csv(cobra_20_Old_path)\n",
    "cobra_21 = pd.read_csv(cobra_21_path)\n",
    "weather_data = pd.read_csv(weather_data_path)\n",
    "cases = pd.read_csv(cases_path)"
   ]
  },
  {
   "cell_type": "code",
   "execution_count": null,
   "id": "de6370a7",
   "metadata": {},
   "outputs": [],
   "source": [
    "#Assign column names and drop unneeded columns for cobra_09\n",
    "cobra_09.columns = ['offense_id','rpt_date','occur_date','occur_time','poss_date','poss_time','beat','apt_office_prefix', 'apt_office_num', 'location', 'shift_occurence','location_type','UC2_Literal','UC2#','ibr_code','neighborhood','npu','lat','long']\n",
    "cobra_09 = cobra_09.drop(columns = ['apt_office_prefix','apt_office_num','shift_occurence','location_type','UC2#', 'poss_date'])\n",
    "cobra_09"
   ]
  },
  {
   "cell_type": "code",
   "execution_count": null,
   "id": "12123863",
   "metadata": {},
   "outputs": [],
   "source": [
    "#Change date format\n",
    "cobra_09['rpt_date']= pd.to_datetime(cobra_09['rpt_date'])\n",
    "cobra_09['occur_date']= pd.to_datetime(cobra_09['occur_date'])\n",
    "cobra_09['rpt_date'] = cobra_09['rpt_date'].dt.strftime(\"%m/%d/%Y\")\n",
    "cobra_09['occur_date'] = cobra_09['occur_date'].dt.strftime(\"%m/%d/%Y\")\n",
    "cobra_09.head()"
   ]
  },
  {
   "cell_type": "code",
   "execution_count": null,
   "id": "82e3269d",
   "metadata": {},
   "outputs": [],
   "source": [
    "#Insert new column: occur_year and delete any years that don't begin with 20\n",
    "cobra_09.insert(3,'occur_year',cobra_09['occur_date'].str[-4:])\n",
    "cobra_09_delete = cobra_09.loc[cobra_09['occur_year'].str[:2] != '20']\n",
    "cobra_09_delete_list = cobra_09_delete['offense_id'].to_list()\n",
    "cobra_09 = cobra_09[~cobra_09['offense_id'].isin(cobra_09_delete_list)]\n",
    "cobra_09"
   ]
  },
  {
   "cell_type": "code",
   "execution_count": null,
   "id": "c5f0274d",
   "metadata": {},
   "outputs": [],
   "source": [
    "#Assign column names and drop unneeded columns for cobra_20_old\n",
    "cobra_20_Old.columns = ['offense_id','rpt_date','occur_date','occur_time','poss_date','poss_time','beat','apt_office_prefix', 'apt_office_num', 'location', 'shift_occurence','location_type','UC2_Literal','UC2#','neighborhood','npu','lat','long']\n",
    "cobra_20_Old = cobra_20_Old.drop(columns = ['apt_office_prefix','apt_office_num','shift_occurence','location_type','UC2#', 'poss_date'])\n",
    "cobra_20_Old"
   ]
  },
  {
   "cell_type": "code",
   "execution_count": null,
   "id": "1d651008",
   "metadata": {},
   "outputs": [],
   "source": [
    "#Change Date Format\n",
    "cobra_20_Old['rpt_date']= pd.to_datetime(cobra_20_Old['rpt_date'])\n",
    "cobra_20_Old['occur_date']= pd.to_datetime(cobra_20_Old['occur_date'])\n",
    "cobra_20_Old['rpt_date'] = cobra_20_Old['rpt_date'].dt.strftime(\"%m/%d/%Y\")\n",
    "cobra_20_Old['occur_date'] = cobra_20_Old['occur_date'].dt.strftime(\"%m/%d/%Y\")\n",
    "cobra_20_Old.head()"
   ]
  },
  {
   "cell_type": "code",
   "execution_count": null,
   "id": "b19058db",
   "metadata": {},
   "outputs": [],
   "source": [
    "#Insert new column: occur_year and delete any years that don't begin with 20\n",
    "cobra_20_Old.insert(3,'occur_year',cobra_20_Old['occur_date'].str[-4:])\n",
    "cobra_20_Old_delete = cobra_20_Old.loc[cobra_20_Old['occur_year'].str[:2] != '20']\n",
    "cobra_20_Old_delete_list = cobra_20_Old_delete['offense_id'].to_list()\n",
    "cobra_20_Old = cobra_20_Old[~cobra_20_Old['offense_id'].isin(cobra_20_Old_delete_list)]\n",
    "cobra_20_Old"
   ]
  },
  {
   "cell_type": "code",
   "execution_count": null,
   "id": "cb68edf0",
   "metadata": {},
   "outputs": [],
   "source": [
    "#Assign column names and drop unneeded columns for cobra_20\n",
    "cobra_20 = cobra_20.drop(columns = ['apt_office_prefix','apt_office_num','MinOfucr','dispo_code','Shift','loc_type', 'poss_date'])\n",
    "cobra_20_reorder = ['offense_id','rpt_date','occur_date','occur_time','poss_time','beat','location','ibr_code','UC2_Literal','neighborhood','npu','lat','long']\n",
    "cobra_20_reordered = cobra_20.reindex(columns = cobra_20_reorder)\n",
    "cobra_20 = cobra_20_reordered.copy()"
   ]
  },
  {
   "cell_type": "code",
   "execution_count": null,
   "id": "57f3553c",
   "metadata": {},
   "outputs": [],
   "source": [
    "#Insert new column: occur_year and delete any years that don't begin with 20\n",
    "cobra_20.insert(3,'occur_year',cobra_20['occur_date'].str[-4:])\n",
    "cobra_20_delete = cobra_20.loc[cobra_20['occur_year'].str[:2] != '20']\n",
    "cobra_20_delete_list = cobra_20_delete['offense_id'].to_list()\n",
    "cobra_20 = cobra_20[~cobra_20['offense_id'].isin(cobra_20_delete_list)]\n",
    "cobra_20.head()"
   ]
  },
  {
   "cell_type": "code",
   "execution_count": null,
   "id": "2e6133d7",
   "metadata": {},
   "outputs": [],
   "source": [
    "#Change date format\n",
    "cobra_20['rpt_date']= pd.to_datetime(cobra_20['rpt_date'])\n",
    "cobra_20['occur_date']= pd.to_datetime(cobra_20['occur_date'])\n",
    "cobra_20['rpt_date'] = cobra_20['rpt_date'].dt.strftime(\"%m/%d/%Y\")\n",
    "cobra_20['occur_date'] = cobra_20['occur_date'].dt.strftime(\"%m/%d/%Y\")\n",
    "cobra_20.head()"
   ]
  },
  {
   "cell_type": "code",
   "execution_count": null,
   "id": "220d2f28",
   "metadata": {},
   "outputs": [],
   "source": [
    "#Drop unneeded columns for cobra_09\n",
    "cobra_21 = cobra_21.drop(columns = ['occur_day','occur_day_num','occur_day_num','zone', 'poss_date'])\n",
    "cobra_21.head()"
   ]
  },
  {
   "cell_type": "code",
   "execution_count": null,
   "id": "636b8382",
   "metadata": {},
   "outputs": [],
   "source": [
    "#Insert new column: occur_year and delete any years that don't begin with 20\n",
    "cobra_21.insert(3,'occur_year',cobra_21['occur_date'].str[-4:])\n",
    "cobra_21_delete = cobra_21.loc[cobra_21['occur_year'].str[:2] != '20']\n",
    "cobra_21_delete_list = cobra_21_delete['offense_id'].to_list()\n",
    "cobra_21 = cobra_21[~cobra_21['offense_id'].isin(cobra_21_delete_list)]\n",
    "cobra_21"
   ]
  },
  {
   "cell_type": "code",
   "execution_count": null,
   "id": "77ef0779",
   "metadata": {},
   "outputs": [],
   "source": [
    "#change date format\n",
    "cobra_21['rpt_date']= pd.to_datetime(cobra_21['rpt_date'])\n",
    "cobra_21['occur_date']= pd.to_datetime(cobra_21['occur_date'])\n",
    "cobra_21['rpt_date'] = cobra_21['rpt_date'].dt.strftime(\"%m/%d/%Y\")\n",
    "cobra_21['occur_date'] = cobra_21['occur_date'].dt.strftime(\"%m/%d/%Y\")\n",
    "cobra_21.head()"
   ]
  },
  {
   "cell_type": "code",
   "execution_count": null,
   "id": "babd30fb",
   "metadata": {},
   "outputs": [],
   "source": [
    "#concatenate all crime data\n",
    "concat_list = [cobra_09, cobra_20,cobra_20_Old, cobra_21]  # List of your dataframes\n",
    "crime_df_complete = pd.concat(concat_list)\n",
    "crime_df_complete.head()"
   ]
  },
  {
   "cell_type": "code",
   "execution_count": null,
   "id": "1f00fc24",
   "metadata": {},
   "outputs": [],
   "source": [
    "#insert 2 new columns: occur_month and occur_day\n",
    "crime_df_complete.insert(4,'occur_month',crime_df_complete['occur_date'].str[:2])\n",
    "crime_df_complete.insert(5,'occur_day',crime_df_complete['occur_date'].str[3:5])\n",
    "crime_df_complete"
   ]
  },
  {
   "cell_type": "code",
   "execution_count": null,
   "id": "7981bfb7",
   "metadata": {},
   "outputs": [],
   "source": [
    "#cast date values as numbers to allow for numerical comparison '>''<''=='\n",
    "crime_df_complete[['occur_year','occur_month', 'occur_day']] = crime_df_complete[['occur_year','occur_month', 'occur_day']].apply(pd.to_numeric)"
   ]
  },
  {
   "cell_type": "code",
   "execution_count": null,
   "id": "25a46974",
   "metadata": {
    "scrolled": false
   },
   "outputs": [],
   "source": [
    "#create list of dates to exclude\n",
    "delete_dates = crime_df_complete.loc[((crime_df_complete['occur_year'] == 2021) & (crime_df_complete['occur_month'] > 9 )) | (crime_df_complete['occur_year'] < 2009)]\n",
    "delete_dates_list = delete_dates['offense_id'].tolist()"
   ]
  },
  {
   "cell_type": "code",
   "execution_count": null,
   "id": "0c025d1b",
   "metadata": {},
   "outputs": [],
   "source": [
    "#exclude data from crime_df_complete\n",
    "crime_df_complete = crime_df_complete[~crime_df_complete['offense_id'].isin(delete_dates_list)]\n",
    "crime_df_complete"
   ]
  },
  {
   "cell_type": "code",
   "execution_count": null,
   "id": "a22418bc",
   "metadata": {},
   "outputs": [],
   "source": [
    "#Export dataframe to csv file\n",
    "crime_df_complete.to_csv(\"Crime Data.csv\")"
   ]
  },
  {
   "cell_type": "code",
   "execution_count": null,
   "id": "59226752",
   "metadata": {},
   "outputs": [],
   "source": [
    "#create new dataframe aggregating crime by year and month\n",
    "crime_year_month = crime_df_complete.groupby(['occur_year', 'occur_month'], as_index = False).agg({'offense_id': ['count']})\n",
    "crime_year_month.columns = ['occur_year','occur_month','no._offenses']\n",
    "crime_year_month"
   ]
  },
  {
   "cell_type": "code",
   "execution_count": null,
   "id": "4fdc6c5a",
   "metadata": {},
   "outputs": [],
   "source": [
    "#create new dataframe aggregating crime by year and month\n",
    "crime_year = crime_df_complete.groupby(['occur_year'], as_index = False).agg({'offense_id': ['count']})\n",
    "crime_year.columns = ['occur_year', 'no._offenses']\n",
    "crime_year"
   ]
  },
  {
   "cell_type": "code",
   "execution_count": null,
   "id": "6eec17e0",
   "metadata": {},
   "outputs": [],
   "source": [
    "#visualize weather df\n",
    "weather_data"
   ]
  },
  {
   "cell_type": "code",
   "execution_count": null,
   "id": "e982ceda",
   "metadata": {},
   "outputs": [],
   "source": [
    "#select only date information from dt column and change its format to mm/dd/yyyy\n",
    "weather_data['dt_iso'] = weather_data['dt_iso'].str[:10]\n",
    "weather_data['dt_iso']= pd.to_datetime(weather_data['dt_iso'])\n",
    "weather_data['dt_iso'] = weather_data['dt_iso'].dt.strftime(\"%m/%d/%Y\")\n",
    "weather_data.head()"
   ]
  },
  {
   "cell_type": "code",
   "execution_count": null,
   "id": "35a519c3",
   "metadata": {},
   "outputs": [],
   "source": [
    "#insert year/month/day \n",
    "weather_data.insert(2,'occur_year',weather_data['dt_iso'].str[-4:])\n",
    "weather_data.insert(3,'occur_month',weather_data['dt_iso'].str[:2])\n",
    "weather_data.insert(4,'occur_day',weather_data['dt_iso'].str[3:5])"
   ]
  },
  {
   "cell_type": "code",
   "execution_count": null,
   "id": "9a2971e7",
   "metadata": {},
   "outputs": [],
   "source": [
    "#replace all NaNs with 0\n",
    "weather_data['rain_1h'] = weather_data['rain_1h'].fillna(0)\n",
    "weather_data['rain_3h'] = weather_data['rain_3h'].fillna(0)\n",
    "weather_data['snow_1h'] = weather_data['snow_1h'].fillna(0)\n",
    "weather_data['snow_3h'] = weather_data['snow_3h'].fillna(0)\n",
    "weather_data.head()"
   ]
  },
  {
   "cell_type": "code",
   "execution_count": null,
   "id": "4e04a68a",
   "metadata": {},
   "outputs": [],
   "source": [
    "#create new data frame including only year/month and numerical values\n",
    "atlanta_weather_data = weather_data[['occur_year','occur_month','temp','temp_min','temp_max','humidity','rain_1h','rain_3h','snow_1h','snow_3h']].copy()\n",
    "atlanta_weather_data"
   ]
  },
  {
   "cell_type": "code",
   "execution_count": null,
   "id": "d748f4a3",
   "metadata": {},
   "outputs": [],
   "source": [
    "#groupby month/year and aggregate into means\n",
    "agg_weather_data = atlanta_weather_data.groupby(['occur_year', 'occur_month'], as_index = False).agg({'temp': ['mean'],'temp_min': ['mean'],'temp_max': ['mean'],'humidity': ['mean'],'rain_1h': ['mean'],'rain_3h': ['mean'],'snow_1h': ['mean'],'snow_3h': ['mean']})\n",
    "agg_weather_data.columns = ['occur_year','occur_month','temp_mean','min_temp_mean','max_temp_mean','humidity_mean','rain_1h_mean','rain_3h_mean', 'snow_1h_mean', 'snow_3h_mean']\n",
    "agg_weather_data"
   ]
  },
  {
   "cell_type": "code",
   "execution_count": null,
   "id": "9918efe9",
   "metadata": {},
   "outputs": [],
   "source": [
    "#groupby month/year and aggregate into means\n",
    "agg_weather_data_year = atlanta_weather_data.groupby(['occur_year'], as_index = False).agg({'temp': ['mean'],'temp_min': ['mean'],'temp_max': ['mean'],'humidity': ['mean'],'rain_1h': ['mean'],'rain_3h': ['mean'],'snow_1h': ['mean'],'snow_3h': ['mean']})\n",
    "agg_weather_data_year.columns = ['occur_year','temp_mean','min_temp_mean','max_temp_mean','humidity_mean','rain_1h_mean','rain_3h_mean', 'snow_1h_mean', 'snow_3h_mean']\n",
    "agg_weather_data_year"
   ]
  },
  {
   "cell_type": "code",
   "execution_count": null,
   "id": "34ca28e5",
   "metadata": {},
   "outputs": [],
   "source": [
    "#cast date values as numbers to allow for numerical comparison '>''<''=='\n",
    "agg_weather_data[['occur_year', 'occur_month']] = agg_weather_data[['occur_year','occur_month']].apply(pd.to_numeric)\n",
    "agg_weather_data_year['occur_year'] = agg_weather_data_year['occur_year'].apply(pd.to_numeric)\n"
   ]
  },
  {
   "cell_type": "code",
   "execution_count": null,
   "id": "54d31e04",
   "metadata": {},
   "outputs": [],
   "source": [
    "#merge crime and weather data on year and month\n",
    "crime_with_weather = pd.merge(crime_year_month, agg_weather_data, how=\"left\", on=['occur_year','occur_month'])\n",
    "crime_with_weather"
   ]
  },
  {
   "cell_type": "code",
   "execution_count": null,
   "id": "f90d4f9c",
   "metadata": {},
   "outputs": [],
   "source": [
    "#merge crime and weather data on year\n",
    "crime_with_weather_year = pd.merge(crime_year, agg_weather_data_year, how=\"left\", on=['occur_year'])\n",
    "crime_with_weather_year"
   ]
  },
  {
   "cell_type": "code",
   "execution_count": null,
   "id": "b9306dae",
   "metadata": {},
   "outputs": [],
   "source": [
    "#declare data sets for plotting\n",
    "crime_scatter = crime_with_weather.iloc[:,2]\n",
    "temp_scatter = crime_with_weather.iloc[:,3]\n",
    "max_temp_scatter = crime_with_weather.iloc[:,5]\n",
    "min_temp_scatter = crime_with_weather.iloc[:,4]\n",
    "rain_scatter = crime_with_weather.iloc[:,7]\n",
    "snow_scatter = crime_with_weather.iloc[:,9]\n",
    "humidity_scatter = crime_with_weather.iloc[:,6]\n",
    "month_scatter = crime_with_weather.iloc[:,1]\n",
    "unique_months = len(pd.unique(crime_with_weather['occur_month']))\n",
    "year_scatter = crime_with_weather_year.iloc[:,0]\n",
    "unique_years = len(pd.unique(crime_with_weather_year['occur_year']))\n",
    "rain_scatter_year = crime_with_weather_year.iloc[:,6]"
   ]
  },
  {
   "cell_type": "code",
   "execution_count": null,
   "id": "cbc65c8d",
   "metadata": {},
   "outputs": [],
   "source": [
    "#Scatter Plot: Crime vs Temperature\n",
    "(slope, intercept, rvalue, pvalue, stderr) = linregress(temp_scatter,crime_scatter)\n",
    "regress_values = temp_scatter * slope + intercept\n",
    "line_eq = \"y = \" + str(round(slope,2)) + \"x + \" + str(round(intercept,2))\n",
    "plt.scatter(temp_scatter,crime_scatter)\n",
    "plt.plot(temp_scatter,regress_values,\"r-\")\n",
    "plt.xlabel('Temperature')\n",
    "plt.ylabel('Reported Crime')\n",
    "plt.title('Crime vs Temperature')\n",
    "plt.show()\n",
    "print(f'The r-value is {rvalue}')"
   ]
  },
  {
   "cell_type": "code",
   "execution_count": null,
   "id": "98109532",
   "metadata": {},
   "outputs": [],
   "source": [
    "#Scatter Plot: Crime vs Max Temperature\n",
    "(slope, intercept, rvalue, pvalue, stderr) = linregress(max_temp_scatter,crime_scatter)\n",
    "regress_values = max_temp_scatter * slope + intercept\n",
    "line_eq = \"y = \" + str(round(slope,2)) + \"x + \" + str(round(intercept,2))\n",
    "plt.scatter(max_temp_scatter,crime_scatter)\n",
    "plt.plot(max_temp_scatter,regress_values,\"r-\")\n",
    "plt.xlabel('Max Temperature')\n",
    "plt.ylabel('Reported Crime')\n",
    "plt.title('Crime vs Max Temperature')\n",
    "plt.show()\n",
    "print(f'The r-value is {rvalue}')"
   ]
  },
  {
   "cell_type": "code",
   "execution_count": null,
   "id": "7ad36216",
   "metadata": {},
   "outputs": [],
   "source": [
    "#Scatter Plot: Crime vs Min Temperature\n",
    "(slope, intercept, rvalue, pvalue, stderr) = linregress(min_temp_scatter,crime_scatter)\n",
    "regress_values = min_temp_scatter * slope + intercept\n",
    "line_eq = \"y = \" + str(round(slope,2)) + \"x + \" + str(round(intercept,2))\n",
    "plt.scatter(min_temp_scatter,crime_scatter)\n",
    "plt.plot(min_temp_scatter,regress_values,\"r-\")\n",
    "plt.xlabel('Min Temperature')\n",
    "plt.ylabel('Reported Crime')\n",
    "plt.title('Crime vs Min Temperature')\n",
    "plt.show()\n",
    "print(f'The r-value is {rvalue}')"
   ]
  },
  {
   "cell_type": "code",
   "execution_count": null,
   "id": "2fd11917",
   "metadata": {},
   "outputs": [],
   "source": [
    "#Scatter Plot: Crime vs Rain\n",
    "(slope, intercept, rvalue, pvalue, stderr) = linregress(rain_scatter,crime_scatter)\n",
    "regress_values = rain_scatter * slope + intercept\n",
    "line_eq = \"y = \" + str(round(slope,2)) + \"x + \" + str(round(intercept,2))\n",
    "plt.scatter(rain_scatter,crime_scatter)\n",
    "plt.plot(rain_scatter,regress_values,\"r-\")\n",
    "plt.xlabel('Rainfall')\n",
    "plt.ylabel('Reported Crime')\n",
    "plt.title('Crime vs Rain')\n",
    "plt.show()\n",
    "print(f'The r-value is {rvalue}')"
   ]
  },
  {
   "cell_type": "code",
   "execution_count": null,
   "id": "2f7f6990",
   "metadata": {},
   "outputs": [],
   "source": [
    "#Scatter Plot: Rain vs Month\n",
    "(slope, intercept, rvalue, pvalue, stderr) = linregress(month_scatter,rain_scatter)\n",
    "regress_values = month_scatter * slope + intercept\n",
    "line_eq = \"y = \" + str(round(slope,2)) + \"x + \" + str(round(intercept,2))\n",
    "plt.bar(month_scatter,rain_scatter)\n",
    "#plt.plot(month_scatter,regress_values,\"r-\")\n",
    "plt.xlabel('Month')\n",
    "plt.ylabel('Rain')\n",
    "plt.title('Rain by Month')\n",
    "plt.xticks(np.arange(1, unique_months+1, 1))\n",
    "plt.show()\n",
    "#print(f'The r-value is {rvalue}')"
   ]
  },
  {
   "cell_type": "code",
   "execution_count": null,
   "id": "876f4630",
   "metadata": {},
   "outputs": [],
   "source": [
    "#Scatter Plot: Rain over Years\n",
    "(slope, intercept, rvalue, pvalue, stderr) = linregress(year_scatter,rain_scatter_year)\n",
    "regress_values = year_scatter * slope + intercept\n",
    "line_eq = \"y = \" + str(round(slope,2)) + \"x + \" + str(round(intercept,2))\n",
    "plt.plot(year_scatter,rain_scatter_year)\n",
    "#plt.plot(month_scatter,regress_values,\"r-\")\n",
    "plt.xlabel('Year')\n",
    "plt.ylabel('Rain')\n",
    "plt.title('Rain by Year')\n",
    "#plt.xticks(np.arange(2009, unique_years+1, 1))\n",
    "plt.show()\n",
    "#print(f'The r-value is {rvalue}')"
   ]
  },
  {
   "cell_type": "code",
   "execution_count": null,
   "id": "ff2bf262",
   "metadata": {},
   "outputs": [],
   "source": [
    "#Scatter Plot: Crime vs Snow\n",
    "(slope, intercept, rvalue, pvalue, stderr) = linregress(snow_scatter,crime_scatter)\n",
    "regress_values = snow_scatter * slope + intercept\n",
    "line_eq = \"y = \" + str(round(slope,2)) + \"x + \" + str(round(intercept,2))\n",
    "plt.scatter(snow_scatter,crime_scatter)\n",
    "plt.plot(snow_scatter,regress_values,\"r-\")\n",
    "plt.xlabel('Snow')\n",
    "plt.ylabel('Reported Crime')\n",
    "plt.title('Crime vs Snow')\n",
    "plt.show()\n",
    "print(f'The r-value is {rvalue}')"
   ]
  },
  {
   "cell_type": "code",
   "execution_count": null,
   "id": "abe574b4",
   "metadata": {},
   "outputs": [],
   "source": [
    "#Scatter Plot: Crime vs Humidity\n",
    "(slope, intercept, rvalue, pvalue, stderr) = linregress(humidity_scatter,crime_scatter)\n",
    "regress_values = humidity_scatter * slope + intercept\n",
    "line_eq = \"y = \" + str(round(slope,2)) + \"x + \" + str(round(intercept,2))\n",
    "plt.scatter(humidity_scatter,crime_scatter)\n",
    "plt.plot(humidity_scatter,regress_values,\"r-\")\n",
    "plt.xlabel('Humidity')\n",
    "plt.ylabel('Reported Crime')\n",
    "plt.title('Crime vs Humidity')\n",
    "plt.show()\n",
    "print(f'The r-value is {rvalue}')"
   ]
  },
  {
   "cell_type": "code",
   "execution_count": null,
   "id": "d8eba0f9",
   "metadata": {},
   "outputs": [],
   "source": [
    "cases"
   ]
  },
  {
   "cell_type": "code",
   "execution_count": null,
   "id": "33758097",
   "metadata": {},
   "outputs": [],
   "source": [
    "cases = cases.loc[cases['state'] == 'GA']\n",
    "cases"
   ]
  },
  {
   "cell_type": "code",
   "execution_count": null,
   "id": "a4ba91e7",
   "metadata": {},
   "outputs": [],
   "source": [
    "#insert year/month/day \n",
    "cases.insert(1,'occur_year',cases['submission_date'].str[-4:])\n",
    "cases.insert(2,'occur_month',cases['submission_date'].str[:2])\n",
    "cases"
   ]
  },
  {
   "cell_type": "code",
   "execution_count": null,
   "id": "6ae7a5e2",
   "metadata": {},
   "outputs": [],
   "source": [
    "ga_cases = cases.groupby(['occur_year', 'occur_month'], as_index = False).agg({'submission_date': ['max'],'tot_cases': ['mean'],'tot_death': ['mean']})\n",
    "ga_cases.columns = ['occur_year','occur_month','month_end_date','tot_cases (mean)','tot_death (mean)']\n",
    "ga_cases['tot_cases (mean)'] = ga_cases['tot_cases (mean)'].round(0)\n",
    "ga_cases"
   ]
  },
  {
   "cell_type": "code",
   "execution_count": null,
   "id": "dae3b9eb",
   "metadata": {},
   "outputs": [],
   "source": [
    "ga_cases_clean = ga_cases.drop(ga_cases[(ga_cases['occur_year'] == '2021') & (ga_cases['occur_month'] == '10')].index)\n",
    "ga_cases_clean"
   ]
  },
  {
   "cell_type": "code",
   "execution_count": null,
   "id": "c70ce686",
   "metadata": {},
   "outputs": [],
   "source": [
    "#cast date values as numbers to allow for numerical comparison '>''<''=='\n",
    "ga_cases_clean[['occur_year', 'occur_month']] = ga_cases_clean[['occur_year','occur_month']].apply(pd.to_numeric)\n"
   ]
  },
  {
   "cell_type": "code",
   "execution_count": null,
   "id": "d31fe950",
   "metadata": {},
   "outputs": [],
   "source": [
    "#merge crime and COVID data on year and month\n",
    "crime_covid = pd.merge(ga_cases_clean,crime_year_month,  how=\"left\", on=['occur_year','occur_month'])\n",
    "crime_covid"
   ]
  },
  {
   "cell_type": "code",
   "execution_count": null,
   "id": "39f075d1",
   "metadata": {},
   "outputs": [],
   "source": [
    "#declare data sets for plotting\n",
    "crime_scatter = crime_covid.iloc[:,5]\n",
    "tot_cases_scatter = crime_covid.iloc[:,3]\n",
    "tot_death_scatter = crime_covid.iloc[:,4]\n",
    "time_plot = crime_covid.iloc[:,2]"
   ]
  },
  {
   "cell_type": "code",
   "execution_count": null,
   "id": "cbc41312",
   "metadata": {},
   "outputs": [],
   "source": [
    "#Scatter Plot: Crime vs COVID Cases\n",
    "(slope, intercept, rvalue, pvalue, stderr) = linregress(tot_cases_scatter,crime_scatter)\n",
    "regress_values = tot_cases_scatter * slope + intercept\n",
    "line_eq = \"y = \" + str(round(slope,2)) + \"x + \" + str(round(intercept,2))\n",
    "plt.scatter(tot_cases_scatter,crime_scatter)\n",
    "plt.plot(tot_cases_scatter,regress_values,\"r-\")\n",
    "plt.xlabel('COVID Cases')\n",
    "plt.ylabel('Reported Crime')\n",
    "plt.title('Crime vs COVID Cases')\n",
    "#plt.xticks(np.arange(0, crime_covid[\"tot_cases (mean)\"].max(), 1000))\n",
    "plt.show()\n",
    "print(f'The r-value is {rvalue}')"
   ]
  },
  {
   "cell_type": "code",
   "execution_count": null,
   "id": "9ba0f6da",
   "metadata": {},
   "outputs": [],
   "source": [
    "fig = plt.figure()\n",
    "ax1 = fig.add_subplot(111)\n",
    "ax1.plot(time_plot, crime_scatter)\n",
    "ax1.set_ylabel('reported_crime')\n",
    "ax1.tick_params(axis='x', labelrotation=90 )\n",
    "ax2 = ax1.twinx()\n",
    "ax2.plot(time_plot, tot_cases_scatter, 'r-')\n",
    "ax2.set_ylabel('tot_cases (mean)', color='r')\n",
    "for tl in ax2.get_yticklabels():\n",
    "    tl.set_color('r')\n",
    "plt.title('Crime vs COVID Cases')\n",
    "plt.show()"
   ]
  },
  {
   "cell_type": "code",
   "execution_count": null,
   "id": "baed7cf8",
   "metadata": {},
   "outputs": [],
   "source": [
    "fig = plt.figure()\n",
    "ax1 = fig.add_subplot(111)\n",
    "ax1.plot(time_plot, crime_scatter)\n",
    "ax1.set_ylabel('reported_crime')\n",
    "ax1.tick_params(axis='x', labelrotation=90 )\n",
    "ax2 = ax1.twinx()\n",
    "ax2.plot(time_plot, tot_death_scatter, 'r-')\n",
    "ax2.set_ylabel('tot_deaths (mean)', color='r')\n",
    "for tl in ax2.get_yticklabels():\n",
    "    tl.set_color('r')\n",
    "plt.title('Crime vs COVID Deaths')\n",
    "plt.show()"
   ]
  },
  {
   "cell_type": "code",
   "execution_count": null,
   "id": "430dbdfb",
   "metadata": {},
   "outputs": [],
   "source": [
    "crime_year_month_type = crime_df_complete.groupby(['occur_year', 'occur_month','UC2_Literal'], as_index = False).agg({'offense_id': ['count']})\n",
    "crime_year_month_type.columns = ['occur_year','occur_month','offense_type','no._offenses']\n",
    "crime_year_month_type\n"
   ]
  },
  {
   "cell_type": "code",
   "execution_count": null,
   "id": "f0839523",
   "metadata": {},
   "outputs": [],
   "source": [
    "crime_covid_w_offense_test = pd.merge(ga_cases_clean,crime_df_complete)\n",
    "crime_covid_w_offense_test = crime_covid_w_offense_test[['month_end_date','UC2_Literal']].copy()\n",
    "crime_covid_w_offense_test"
   ]
  },
  {
   "cell_type": "code",
   "execution_count": null,
   "id": "cf65e46e",
   "metadata": {},
   "outputs": [],
   "source": [
    "crime_covid_w_offense_me_pivot = pd.pivot_table(crime_covid_w_offense_test, columns = ['UC2_Literal'] ,index=['month_end_date'], aggfunc = 'size')\n",
    "crime_covid_w_offense_me_pivot = crime_covid_w_offense_me_pivot.fillna(0)\n",
    "crime_covid_w_offense_me_pivot.index = pd.to_datetime(crime_covid_w_offense_me_pivot.index)\n",
    "crime_covid_w_offense_me_pivot = crime_covid_w_offense_me_pivot.sort_index()\n",
    "#cobra_09['occur_date']= pd.to_datetime(cobra_09['occur_date'])\n",
    "crime_covid_w_offense_me_pivot.index = crime_covid_w_offense_me_pivot.index.strftime(\"%m/%d/%Y\")\n",
    "crime_covid_w_offense_me_pivot"
   ]
  },
  {
   "cell_type": "code",
   "execution_count": null,
   "id": "174f7590",
   "metadata": {},
   "outputs": [],
   "source": [
    "ax = crime_covid_w_offense_me_pivot.plot(kind='bar', stacked = True)\n",
    "plt.legend(loc='center left', bbox_to_anchor=(1, 0.5))\n",
    "ax.set_ylabel(\"Reported Crime\")\n",
    "plt.show()"
   ]
  },
  {
   "cell_type": "code",
   "execution_count": null,
   "id": "e79fc1d5",
   "metadata": {},
   "outputs": [],
   "source": [
    "ax = crime_covid_w_offense_me_pivot.plot(figsize=(5, 3))\n",
    "plt.legend(loc='center left', bbox_to_anchor=(1, 0.5))\n",
    "ax.set_ylabel(\"Reported Crime\")\n",
    "plt.title('Type of Crime Since COVID Began')\n",
    "plt.show()"
   ]
  },
  {
   "cell_type": "code",
   "execution_count": null,
   "id": "7261e335",
   "metadata": {},
   "outputs": [],
   "source": []
  }
 ],
 "metadata": {
  "kernelspec": {
   "display_name": "Python 3 (ipykernel)",
   "language": "python",
   "name": "python3"
  },
  "language_info": {
   "codemirror_mode": {
    "name": "ipython",
    "version": 3
   },
   "file_extension": ".py",
   "mimetype": "text/x-python",
   "name": "python",
   "nbconvert_exporter": "python",
   "pygments_lexer": "ipython3",
   "version": "3.8.5"
  }
 },
 "nbformat": 4,
 "nbformat_minor": 5
}
